{
 "cells": [
  {
   "cell_type": "code",
   "execution_count": 0,
   "metadata": {
    "application/vnd.databricks.v1+cell": {
     "cellMetadata": {
      "byteLimit": 2048000,
      "rowLimit": 10000
     },
     "inputWidgets": {},
     "nuid": "05d63317-6929-44ed-a5b6-7097a9a265b5",
     "showTitle": true,
     "tableResultSettingsMap": {},
     "title": "Create Control Table"
    }
   },
   "outputs": [],
   "source": [
    "use catalog identifier(:catalog);\n",
    "use schema identifier(:schema);\n",
    "\n",
    "create table if not exists identifier(:table) (\n",
    "  id bigint generated always as identity,\n",
    "  job_name string not null comment 'Name of the job used to run the task.',\n",
    "  task_collection string not null comment 'Used to group tasks into collections.',\n",
    "  src_type string comment 'Source database type.',\n",
    "  src_catalog string not null comment 'Name of the source catalog',\n",
    "  src_schema string not null comment 'Name of the source schema.',\n",
    "  src_table string not null comment 'Name of the source table.',\n",
    "  sink_catalog string not null comment 'Name of the sink catalog',\n",
    "  sink_schema string not null comment 'Name of the sink schema.',\n",
    "  sink_table string not null comment 'Name of the sink table.',\n",
    "  primary_key array<string> not null comment 'Array of columns used as the primary key.',\n",
    "  sink_cluster_cols array<string> comment 'Array of columns used for Liquid Clustering',\n",
    "  load_type string not null comment 'Specified is load is full or incremental.',\n",
    "  load_partitioned boolean comment 'Specifies if load is partitioned or not.',\n",
    "  select_list string not null comment 'List of columns or expressions used to select data from the source.',\n",
    "  watermark_col_name string comment 'Name of the column used to track incremental loads.',\n",
    "  watermark_col_type string comment 'Data type of the column used to track incremental loads.',\n",
    "  watermark_col_start_value string comment 'Watermark starting value for incremental loads.',\n",
    "  partition_col string comment 'Name of column used for performing partitioned loads.',\n",
    "  partition_size_mb int comment 'Individual partition size in MB for partitioned loads (E.g., 256, 512).',\n",
    "  task_enabled boolean not null comment 'Flag used to enable or disable the task.'\n",
    ");\n",
    "\n",
    "alter table identifier(:table) drop constraint if exists valid_load_type;\n",
    "alter table identifier(:table) add constraint valid_load_type check (load_type in ('full', 'incremental'));\n",
    "\n",
    "alter table identifier(:table) drop constraint if exists valid_src_type;\n",
    "alter table identifier(:table) add constraint valid_src_type check (src_type in ('sqlserver', 'oracle', 'postgresql', 'redshift', 'synapse', 'delta'));\n",
    "\n",
    "-- Ensure incremental tasks have required metadata\n",
    "alter table identifier(:table) drop constraint if exists valid_incremental_metadata;\n",
    "alter table identifier(:table) add constraint valid_incremental_metadata check (\n",
    "  (load_type = 'incremental' and array_size(primary_key) > 0 and watermark_col_name is not null and watermark_col_type is not null and watermark_col_start_value is not null) or (load_type = 'full' and array_size(primary_key) = 0 and watermark_col_name is null and watermark_col_type is null and watermark_col_start_value is null)\n",
    ");"
   ]
  }
 ],
 "metadata": {
  "application/vnd.databricks.v1+notebook": {
   "computePreferences": null,
   "dashboards": [],
   "environmentMetadata": null,
   "inputWidgetPreferences": null,
   "language": "sql",
   "notebookMetadata": {
    "pythonIndentUnit": 2
   },
   "notebookName": "_create_control_table",
   "widgets": {
    "catalog": {
     "currentValue": "lakefed_ingest",
     "nuid": "afad7900-cc45-4ad9-af7e-f6e4631270b4",
     "typedWidgetInfo": {
      "autoCreated": false,
      "defaultValue": "lakefed_ingest",
      "label": "",
      "name": "catalog",
      "options": {
       "widgetDisplayType": "Text",
       "validationRegex": null
      },
      "parameterDataType": "String"
     },
     "widgetInfo": {
      "widgetType": "text",
      "defaultValue": "lakefed_ingest",
      "label": "",
      "name": "catalog",
      "options": {
       "widgetType": "text",
       "autoCreated": false,
       "validationRegex": null
      }
     }
    },
    "schema": {
     "currentValue": "default",
     "nuid": "56b300ff-0480-44b2-85f1-e4d722e21ffe",
     "typedWidgetInfo": {
      "autoCreated": false,
      "defaultValue": "default",
      "label": "",
      "name": "schema",
      "options": {
       "widgetDisplayType": "Text",
       "validationRegex": null
      },
      "parameterDataType": "String"
     },
     "widgetInfo": {
      "widgetType": "text",
      "defaultValue": "default",
      "label": "",
      "name": "schema",
      "options": {
       "widgetType": "text",
       "autoCreated": false,
       "validationRegex": null
      }
     }
    },
    "table": {
     "currentValue": "control",
     "nuid": "4c818e34-b32e-48f2-b6de-bb9c82d3839d",
     "typedWidgetInfo": {
      "autoCreated": false,
      "defaultValue": "control",
      "label": "",
      "name": "table",
      "options": {
       "widgetDisplayType": "Text",
       "validationRegex": null
      },
      "parameterDataType": "String"
     },
     "widgetInfo": {
      "widgetType": "text",
      "defaultValue": "control",
      "label": "",
      "name": "table",
      "options": {
       "widgetType": "text",
       "autoCreated": false,
       "validationRegex": null
      }
     }
    }
   }
  },
  "language_info": {
   "name": "sql"
  }
 },
 "nbformat": 4,
 "nbformat_minor": 0
}
