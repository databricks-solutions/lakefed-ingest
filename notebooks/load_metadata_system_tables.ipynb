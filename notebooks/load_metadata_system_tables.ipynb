{
 "cells": [
  {
   "cell_type": "markdown",
   "metadata": {
    "application/vnd.databricks.v1+cell": {
     "cellMetadata": {
      "byteLimit": 2048000,
      "rowLimit": 10000
     },
     "inputWidgets": {},
     "nuid": "1841e07b-d30a-4e77-a511-28376c365b1b",
     "showTitle": false,
     "tableResultSettingsMap": {},
     "title": ""
    }
   },
   "source": [
    "## Load Metadata - System Tables\n",
    "- Prepare metadata and merge into the control table\n",
    "- Clone notebook for each source schema"
   ]
  },
  {
   "cell_type": "code",
   "execution_count": 0,
   "metadata": {
    "application/vnd.databricks.v1+cell": {
     "cellMetadata": {
      "byteLimit": 2048000,
      "rowLimit": 10000
     },
     "inputWidgets": {},
     "nuid": "b0440ec6-c1c6-4bf3-97c0-78f1d410b189",
     "showTitle": false,
     "tableResultSettingsMap": {},
     "title": ""
    }
   },
   "outputs": [],
   "source": [
    "-- Create temporary view containing table specific metadata\n",
    "-- This will be joined with data from information_schema\n",
    "\n",
    "create or replace temp view table_details as\n",
    "select\n",
    "  col1 as table,\n",
    "  col2 as sink_table,\n",
    "  split(col3, ',') as primary_key,\n",
    "  split(col4, ',') as cluster_cols,\n",
    "  col5 as load_type,\n",
    "  col6 as watermark_col_name,\n",
    "  col7 as watermark_col_type,\n",
    "  col8 as watermark_col_start_value\n",
    "FROM\n",
    "  (\n",
    "    VALUES\n",
    "      (\"history\",    \"query_history\",      \"account_id,workspace_id,statement_id\", \"start_time,workspace_id\",    \"incremental\", \"update_time\", \"timestamp\", \"0000-01-01\"),\n",
    "      (\"warehouses\", \"compute_warehouses\", null,                                   null,                         \"full\",        null,          null,        null)\n",
    "  );"
   ]
  },
  {
   "cell_type": "code",
   "execution_count": 0,
   "metadata": {
    "application/vnd.databricks.v1+cell": {
     "cellMetadata": {
      "byteLimit": 2048000,
      "rowLimit": 10000
     },
     "inputWidgets": {},
     "nuid": "5cad679c-438b-42bc-ac57-7d7536687768",
     "showTitle": true,
     "tableResultSettingsMap": {},
     "title": "Create Metadata"
    }
   },
   "outputs": [],
   "source": [
    "use catalog identifier(:ctrl_catalog);\n",
    "use schema identifier(:ctrl_schema);\n",
    "\n",
    "create or replace temporary view control_src as\n",
    "select\n",
    "  'lakefed_ingest' as job_name,\n",
    "  'system_tables' as task_collection,\n",
    "  'delta' as src_type,\n",
    "  t.table_catalog as src_catalog,\n",
    "  t.table_schema as src_schema,\n",
    "  t.table_name as src_table,\n",
    "  'lakefed_ingest' as sink_catalog,\n",
    "  'system_tables' as sink_schema,\n",
    "  coalesce(d.sink_table, t.table_name) as sink_table,\n",
    "  coalesce(d.primary_key, array()) as primary_key,\n",
    "  coalesce(d.cluster_cols, array()) as sink_cluster_cols,\n",
    "  coalesce(d.load_type, 'full') as load_type,\n",
    "  false as load_partitioned,\n",
    "  '*' as select_list,\n",
    "  coalesce(d.watermark_col_name, null) as watermark_col_name,\n",
    "  coalesce(d.watermark_col_type, null) as watermark_col_type,\n",
    "  coalesce(d.watermark_col_start_value, null) as watermark_col_start_value,\n",
    "  case when load_partitioned is true then element_at(cluster_cols, 1) else null end as partition_col,\n",
    "  case when load_partitioned is true then 256 else null end as partition_size_mb,\n",
    "  true as task_enabled\n",
    "from system.information_schema.tables t\n",
    "left join table_details d\n",
    "on t.table_name = d.table\n",
    "where t.table_catalog = 'system'\n",
    "  and t.table_schema in ('query', 'compute')\n",
    "  and t.table_name in (select table from table_details);\n",
    "\n",
    "select * from control_src;"
   ]
  },
  {
   "cell_type": "code",
   "execution_count": 0,
   "metadata": {
    "application/vnd.databricks.v1+cell": {
     "cellMetadata": {
      "byteLimit": 2048000,
      "rowLimit": 10000
     },
     "inputWidgets": {},
     "nuid": "f231f2bd-53dc-493c-84d3-023e9fb5dc8f",
     "showTitle": true,
     "tableResultSettingsMap": {},
     "title": "Merge into Control Table"
    }
   },
   "outputs": [],
   "source": [
    "-- This will overwrite existing watermarks if they exist\n",
    "-- If this is not desired, exclude existing rows from the source\n",
    "\n",
    "merge with schema evolution into identifier(:ctrl_table) as t\n",
    "using control_src as s\n",
    "on t.src_catalog = s.src_catalog\n",
    "and t.src_schema = s.src_schema\n",
    "and t.src_table = s.src_table\n",
    "when matched\n",
    "  then update set *\n",
    "when not matched\n",
    "  then insert *"
   ]
  }
 ],
 "metadata": {
  "application/vnd.databricks.v1+notebook": {
   "computePreferences": null,
   "dashboards": [],
   "environmentMetadata": null,
   "inputWidgetPreferences": null,
   "language": "sql",
   "notebookMetadata": {
    "pythonIndentUnit": 2
   },
   "notebookName": "load_metadata_system_tables",
   "widgets": {
    "ctrl_catalog": {
     "currentValue": "lakefed_ingest",
     "nuid": "afad7900-cc45-4ad9-af7e-f6e4631270b4",
     "typedWidgetInfo": {
      "autoCreated": false,
      "defaultValue": "lakefed_ingest",
      "label": "",
      "name": "ctrl_catalog",
      "options": {
       "widgetDisplayType": "Text",
       "validationRegex": null
      },
      "parameterDataType": "String"
     },
     "widgetInfo": {
      "widgetType": "text",
      "defaultValue": "lakefed_ingest",
      "label": "",
      "name": "ctrl_catalog",
      "options": {
       "widgetType": "text",
       "autoCreated": false,
       "validationRegex": null
      }
     }
    },
    "ctrl_schema": {
     "currentValue": "default",
     "nuid": "56b300ff-0480-44b2-85f1-e4d722e21ffe",
     "typedWidgetInfo": {
      "autoCreated": false,
      "defaultValue": "default",
      "label": "",
      "name": "ctrl_schema",
      "options": {
       "widgetDisplayType": "Text",
       "validationRegex": null
      },
      "parameterDataType": "String"
     },
     "widgetInfo": {
      "widgetType": "text",
      "defaultValue": "default",
      "label": "",
      "name": "ctrl_schema",
      "options": {
       "widgetType": "text",
       "autoCreated": false,
       "validationRegex": null
      }
     }
    },
    "ctrl_table": {
     "currentValue": "control",
     "nuid": "4c818e34-b32e-48f2-b6de-bb9c82d3839d",
     "typedWidgetInfo": {
      "autoCreated": false,
      "defaultValue": "control",
      "label": "",
      "name": "ctrl_table",
      "options": {
       "widgetDisplayType": "Text",
       "validationRegex": null
      },
      "parameterDataType": "String"
     },
     "widgetInfo": {
      "widgetType": "text",
      "defaultValue": "control",
      "label": "",
      "name": "ctrl_table",
      "options": {
       "widgetType": "text",
       "autoCreated": false,
       "validationRegex": null
      }
     }
    },
    "src_catalog": {
     "currentValue": "system",
     "nuid": "9d315a61-fe97-46e4-a94a-ec535e699cc4",
     "typedWidgetInfo": {
      "autoCreated": false,
      "defaultValue": "tpcds",
      "label": "",
      "name": "src_catalog",
      "options": {
       "widgetDisplayType": "Text",
       "validationRegex": null
      },
      "parameterDataType": "String"
     },
     "widgetInfo": {
      "widgetType": "text",
      "defaultValue": "tpcds",
      "label": "",
      "name": "src_catalog",
      "options": {
       "widgetType": "text",
       "autoCreated": false,
       "validationRegex": null
      }
     }
    },
    "src_schema": {
     "currentValue": "control",
     "nuid": "c1c41424-5e91-4835-9893-03c3a7fbddd0",
     "typedWidgetInfo": {
      "autoCreated": false,
      "defaultValue": "sf_1000_liquid",
      "label": "",
      "name": "src_schema",
      "options": {
       "widgetDisplayType": "Text",
       "validationRegex": null
      },
      "parameterDataType": "String"
     },
     "widgetInfo": {
      "widgetType": "text",
      "defaultValue": "sf_1000_liquid",
      "label": "",
      "name": "src_schema",
      "options": {
       "widgetType": "text",
       "autoCreated": false,
       "validationRegex": null
      }
     }
    }
   }
  },
  "language_info": {
   "name": "sql"
  }
 },
 "nbformat": 4,
 "nbformat_minor": 0
}
