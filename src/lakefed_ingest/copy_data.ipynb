{
 "cells": [
  {
   "cell_type": "code",
   "execution_count": 0,
   "metadata": {
    "application/vnd.databricks.v1+cell": {
     "cellMetadata": {},
     "inputWidgets": {},
     "nuid": "b0be246c-3aba-462a-964f-f035d9ca963c",
     "showTitle": false,
     "tableResultSettingsMap": {},
     "title": ""
    }
   },
   "outputs": [],
   "source": [
    "begin\n",
    "  declare qry_str string;\n",
    "  \n",
    "  -- Build query string\n",
    "  set qry_str = \n",
    "    \"insert overwrite \" || :sink_catalog || '.' || :sink_schema || '.' || :sink_table || \" \"\n",
    "    \"select \" || :select_list || \" from \" || :src_catalog || '.' || :src_schema || '.' || :src_table || \" with(fetchSize = 100000) \";\n",
    "  \n",
    "  -- Execute query\n",
    "  execute immediate qry_str;\n",
    "  select qry_str;\n",
    "end"
   ]
  }
 ],
 "metadata": {
  "application/vnd.databricks.v1+notebook": {
   "computePreferences": null,
   "dashboards": [],
   "environmentMetadata": {
    "base_environment": "",
    "environment_version": "2"
   },
   "inputWidgetPreferences": null,
   "language": "sql",
   "notebookMetadata": {
    "pythonIndentUnit": 2
   },
   "notebookName": "copy_data",
   "widgets": {}
  },
  "language_info": {
   "name": "sql"
  }
 },
 "nbformat": 4,
 "nbformat_minor": 0
}
