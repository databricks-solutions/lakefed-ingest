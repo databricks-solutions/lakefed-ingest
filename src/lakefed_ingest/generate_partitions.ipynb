{
 "cells": [
  {
   "cell_type": "code",
   "execution_count": 0,
   "metadata": {
    "application/vnd.databricks.v1+cell": {
     "cellMetadata": {
      "byteLimit": 2048000,
      "rowLimit": 10000
     },
     "inputWidgets": {},
     "nuid": "45ab3641-09f0-476e-9c1b-1e69957ee78c",
     "showTitle": false,
     "tableResultSettingsMap": {},
     "title": ""
    }
   },
   "outputs": [],
   "source": [
    "from lakefed_ingest.main import *"
   ]
  },
  {
   "cell_type": "code",
   "execution_count": 0,
   "metadata": {
    "application/vnd.databricks.v1+cell": {
     "cellMetadata": {
      "byteLimit": 2048000,
      "rowLimit": 10000
     },
     "inputWidgets": {},
     "nuid": "2357b38e-5f3e-4477-b84d-776773c8bd0d",
     "showTitle": false,
     "tableResultSettingsMap": {},
     "title": ""
    }
   },
   "outputs": [],
   "source": [
    "src_type = dbutils.widgets.get('src_type')\n",
    "src_catalog = dbutils.widgets.get('src_catalog')\n",
    "src_schema = dbutils.widgets.get('src_schema')\n",
    "src_table = dbutils.widgets.get('src_table')\n",
    "partition_col = dbutils.widgets.get('partition_col')\n",
    "partition_size_mb = int(dbutils.widgets.get('partition_size_mb'))\n",
    "tgt_catalog = dbutils.widgets.get('tgt_catalog')\n",
    "tgt_schema = dbutils.widgets.get('tgt_schema')\n",
    "tgt_table = dbutils.widgets.get('tgt_table')"
   ]
  },
  {
   "cell_type": "code",
   "execution_count": 0,
   "metadata": {
    "application/vnd.databricks.v1+cell": {
     "cellMetadata": {
      "byteLimit": 2048000,
      "rowLimit": 10000
     },
     "inputWidgets": {},
     "nuid": "ad06769d-e2a5-4474-a3ab-e2c335539074",
     "showTitle": true,
     "tableResultSettingsMap": {},
     "title": "Get Source Table Size"
    }
   },
   "outputs": [],
   "source": [
    "# Get size of source table. Table size and the specified partition size\n",
    "# are used to calculate the approximate size of each individual query.\n",
    "table_size_mb = get_table_size(src_catalog, src_schema, src_table, src_type)"
   ]
  },
  {
   "cell_type": "code",
   "execution_count": 0,
   "metadata": {
    "application/vnd.databricks.v1+cell": {
     "cellMetadata": {
      "byteLimit": 2048000,
      "rowLimit": 10000
     },
     "inputWidgets": {},
     "nuid": "3fb7659b-e5da-4300-8b95-79de9654d39d",
     "showTitle": true,
     "tableResultSettingsMap": {},
     "title": "Get Partition Boundaries"
    }
   },
   "outputs": [],
   "source": [
    "# Get the lower and upper bound values of the partition column\n",
    "lower_bound, upper_bound = get_partition_boundaries(src_catalog, src_schema, src_table, partition_col)\n",
    "\n",
    "print(f'Upper and lower bound: {lower_bound}, {upper_bound}')"
   ]
  },
  {
   "cell_type": "code",
   "execution_count": 0,
   "metadata": {
    "application/vnd.databricks.v1+cell": {
     "cellMetadata": {
      "byteLimit": 2048000,
      "rowLimit": 10000
     },
     "inputWidgets": {},
     "nuid": "ca88b99e-bed5-4f9b-a158-769d0627d2ca",
     "showTitle": true,
     "tableResultSettingsMap": {},
     "title": "Calculate Number of Partitions"
    }
   },
   "outputs": [],
   "source": [
    "# Calculate number of partitions. Minimum is 2.\n",
    "num_partitions = int(table_size_mb / partition_size_mb)\n",
    "num_partitions = max(num_partitions, 2)\n",
    "\n",
    "print(f'Number of partitions: {num_partitions}')"
   ]
  },
  {
   "cell_type": "code",
   "execution_count": 0,
   "metadata": {
    "application/vnd.databricks.v1+cell": {
     "cellMetadata": {
      "byteLimit": 2048000,
      "rowLimit": 10000
     },
     "inputWidgets": {},
     "nuid": "1f102639-3067-44bb-b66d-d1beb3f718be",
     "showTitle": true,
     "tableResultSettingsMap": {},
     "title": "Generate Partitions"
    }
   },
   "outputs": [],
   "source": [
    "# Generate partition list\n",
    "partition_list = get_partition_list(\n",
    "    partition_col,\n",
    "    lower_bound,\n",
    "    upper_bound,\n",
    "    num_partitions\n",
    ")\n",
    "\n",
    "partitions_tbl = f'{tgt_catalog}.{tgt_schema}.{tgt_table}_partitions'\n",
    "\n",
    "# Write partitions to table\n",
    "partition_df = get_partition_df(partition_list, num_partitions, 1000)\n",
    "partition_df.write.option(\"overwriteSchema\", \"true\").mode(\"overwrite\").saveAsTable(partitions_tbl)"
   ]
  },
  {
   "cell_type": "code",
   "execution_count": 0,
   "metadata": {
    "application/vnd.databricks.v1+cell": {
     "cellMetadata": {
      "byteLimit": 2048000,
      "rowLimit": 10000
     },
     "inputWidgets": {},
     "nuid": "8161587c-6966-4f3a-9689-5373f9f3bd2f",
     "showTitle": true,
     "tableResultSettingsMap": {},
     "title": "Get List of Batches"
    }
   },
   "outputs": [],
   "source": [
    "# Get list of ids\n",
    "partitions_qry = f\"\"\"\\\n",
    "    select\n",
    "      sort_array(array_agg(distinct batch_id)) as batch_ids,\n",
    "      count(where_clause) as cnt_partitions\n",
    "    from {partitions_tbl}\n",
    "\"\"\"\n",
    "\n",
    "partitions_df = spark.sql(partitions_qry)\n",
    "batch_id_list = partitions_df.collect()[0]['batch_ids']\n",
    "cnt_partitions = partitions_df.collect()[0]['cnt_partitions']\n",
    "\n",
    "print(f'Count of batches: {len(batch_id_list)}')\n",
    "print(f'Count of partitions: {cnt_partitions}')\n",
    "\n",
    "# Assign id list to job task value to make it available to a for each task.\n",
    "dbutils.jobs.taskValues.set(key=\"batch_id_list\", value=batch_id_list)"
   ]
  }
 ],
 "metadata": {
  "application/vnd.databricks.v1+notebook": {
   "computePreferences": null,
   "dashboards": [],
   "environmentMetadata": null,
   "inputWidgetPreferences": null,
   "language": "python",
   "notebookMetadata": {
    "mostRecentlyExecutedCommandWithImplicitDF": {
     "commandId": 4165620575668529,
     "dataframes": [
      "_sqldf"
     ]
    },
    "pythonIndentUnit": 4
   },
   "notebookName": "generate_partitions",
   "widgets": {
    "partition_col": {
     "currentValue": "ss_item_sk",
     "nuid": "6ade68b1-9b6e-4f24-8424-00fe1fe56e6f",
     "typedWidgetInfo": {
      "autoCreated": false,
      "defaultValue": "",
      "label": "",
      "name": "partition_col",
      "options": {
       "widgetDisplayType": "Text",
       "validationRegex": null
      },
      "parameterDataType": "String"
     },
     "widgetInfo": {
      "widgetType": "text",
      "defaultValue": "",
      "label": "",
      "name": "partition_col",
      "options": {
       "widgetType": "text",
       "autoCreated": false,
       "validationRegex": null
      }
     }
    },
    "partition_size_mb": {
     "currentValue": "128",
     "nuid": "59d185c2-9a7d-4cc6-81ec-0d8f11419a25",
     "typedWidgetInfo": {
      "autoCreated": false,
      "defaultValue": "",
      "label": "",
      "name": "partition_size_mb",
      "options": {
       "widgetDisplayType": "Text",
       "validationRegex": null
      },
      "parameterDataType": "String"
     },
     "widgetInfo": {
      "widgetType": "text",
      "defaultValue": "",
      "label": "",
      "name": "partition_size_mb",
      "options": {
       "widgetType": "text",
       "autoCreated": false,
       "validationRegex": null
      }
     }
    },
    "src_catalog": {
     "currentValue": "tpcds",
     "nuid": "43162f1f-e929-4cc0-a409-1d3cee631306",
     "typedWidgetInfo": {
      "autoCreated": false,
      "defaultValue": "",
      "label": "",
      "name": "src_catalog",
      "options": {
       "widgetDisplayType": "Text",
       "validationRegex": null
      },
      "parameterDataType": "String"
     },
     "widgetInfo": {
      "widgetType": "text",
      "defaultValue": "",
      "label": "",
      "name": "src_catalog",
      "options": {
       "widgetType": "text",
       "autoCreated": false,
       "validationRegex": null
      }
     }
    },
    "src_schema": {
     "currentValue": "sf_1000_liquid",
     "nuid": "a6899bbd-325f-489c-bb0d-595842d6dd68",
     "typedWidgetInfo": {
      "autoCreated": false,
      "defaultValue": "",
      "label": "",
      "name": "src_schema",
      "options": {
       "widgetDisplayType": "Text",
       "validationRegex": null
      },
      "parameterDataType": "String"
     },
     "widgetInfo": {
      "widgetType": "text",
      "defaultValue": "",
      "label": "",
      "name": "src_schema",
      "options": {
       "widgetType": "text",
       "autoCreated": false,
       "validationRegex": null
      }
     }
    },
    "src_table": {
     "currentValue": "store_sales",
     "nuid": "ef4840b7-0a26-4b5f-ae8a-2aae7ed09a0d",
     "typedWidgetInfo": {
      "autoCreated": false,
      "defaultValue": "",
      "label": "",
      "name": "src_table",
      "options": {
       "widgetDisplayType": "Text",
       "validationRegex": null
      },
      "parameterDataType": "String"
     },
     "widgetInfo": {
      "widgetType": "text",
      "defaultValue": "",
      "label": "",
      "name": "src_table",
      "options": {
       "widgetType": "text",
       "autoCreated": false,
       "validationRegex": null
      }
     }
    },
    "src_type": {
     "currentValue": "delta",
     "nuid": "0f478c51-6683-407b-ba81-8eedd2e807b5",
     "typedWidgetInfo": {
      "autoCreated": false,
      "defaultValue": "delta",
      "label": "",
      "name": "src_type",
      "options": {
       "widgetDisplayType": "Dropdown",
       "choices": [
        "sqlserver",
        "oracle",
        "postgresql",
        "redshift",
        "synapse",
        "delta"
       ],
       "fixedDomain": true,
       "multiselect": false
      },
      "parameterDataType": "String"
     },
     "widgetInfo": {
      "widgetType": "dropdown",
      "defaultValue": "delta",
      "label": "",
      "name": "src_type",
      "options": {
       "widgetType": "dropdown",
       "autoCreated": false,
       "choices": [
        "sqlserver",
        "oracle",
        "postgresql",
        "redshift",
        "synapse",
        "delta"
       ]
      }
     }
    },
    "tgt_catalog": {
     "currentValue": "lakefed_ingest",
     "nuid": "f2fc59b6-5723-44f4-b503-a03823c79e6b",
     "typedWidgetInfo": {
      "autoCreated": false,
      "defaultValue": "",
      "label": "",
      "name": "tgt_catalog",
      "options": {
       "widgetDisplayType": "Text",
       "validationRegex": null
      },
      "parameterDataType": "String"
     },
     "widgetInfo": {
      "widgetType": "text",
      "defaultValue": "",
      "label": "",
      "name": "tgt_catalog",
      "options": {
       "widgetType": "text",
       "autoCreated": false,
       "validationRegex": null
      }
     }
    },
    "tgt_schema": {
     "currentValue": "tpcds_sf1000",
     "nuid": "69027b7a-2e25-4543-b726-5c63c39bb6c3",
     "typedWidgetInfo": {
      "autoCreated": false,
      "defaultValue": "",
      "label": "",
      "name": "tgt_schema",
      "options": {
       "widgetDisplayType": "Text",
       "validationRegex": null
      },
      "parameterDataType": "String"
     },
     "widgetInfo": {
      "widgetType": "text",
      "defaultValue": "",
      "label": "",
      "name": "tgt_schema",
      "options": {
       "widgetType": "text",
       "autoCreated": false,
       "validationRegex": null
      }
     }
    },
    "tgt_table": {
     "currentValue": "store_sales",
     "nuid": "30388bb3-2f28-453b-b20e-dbaa25976f5f",
     "typedWidgetInfo": {
      "autoCreated": false,
      "defaultValue": "",
      "label": "",
      "name": "tgt_table",
      "options": {
       "widgetDisplayType": "Text",
       "validationRegex": null
      },
      "parameterDataType": "String"
     },
     "widgetInfo": {
      "widgetType": "text",
      "defaultValue": "",
      "label": "",
      "name": "tgt_table",
      "options": {
       "widgetType": "text",
       "autoCreated": false,
       "validationRegex": null
      }
     }
    }
   }
  },
  "kernelspec": {
   "display_name": ".venv",
   "language": "python",
   "name": "python3"
  },
  "language_info": {
   "name": "python"
  }
 },
 "nbformat": 4,
 "nbformat_minor": 0
}
