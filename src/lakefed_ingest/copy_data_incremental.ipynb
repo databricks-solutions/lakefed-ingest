{
 "cells": [
  {
   "cell_type": "code",
   "execution_count": 0,
   "metadata": {
    "application/vnd.databricks.v1+cell": {
     "cellMetadata": {
      "byteLimit": 2048000,
      "rowLimit": 10000
     },
     "inputWidgets": {},
     "nuid": "b0be246c-3aba-462a-964f-f035d9ca963c",
     "showTitle": true,
     "tableResultSettingsMap": {},
     "title": "Create Source View"
    }
   },
   "outputs": [],
   "source": [
    "begin\n",
    "  declare qry_str string;\n",
    "  \n",
    "  -- Build query string\n",
    "  set qry_str = \n",
    "    \"create or replace temporary view vw_src as \"\n",
    "    \"select \" || :select_list || \" from \" || :src_catalog || '.' || :src_schema || '.' || :src_table || \" with(fetchSize = 100000) \";\n",
    "  \n",
    "  -- Add where clause\n",
    "  if :watermark_col_type = 'timestamp' then\n",
    "    set qry_str = concat(qry_str, \" where \" || :watermark_col_name || \" > '\" || :watermark_col_start_value || \"' and \"  || :watermark_col_name ||  \" <= '\" || :watermark_col_end_value || \"'\");\n",
    "  else\n",
    "    set qry_str = concat(qry_str, \" where \" || :watermark_col_name || \" > \" || :watermark_col_start_value || \" and \"  || :watermark_col_name ||  \" <= \" || :watermark_col_end_value);\n",
    "  end if;\n",
    "  \n",
    "  -- Execute query\n",
    "  execute immediate qry_str;\n",
    "  select qry_str;\n",
    "end"
   ]
  },
  {
   "cell_type": "code",
   "execution_count": 0,
   "metadata": {
    "application/vnd.databricks.v1+cell": {
     "cellMetadata": {
      "byteLimit": 2048000,
      "rowLimit": 10000
     },
     "inputWidgets": {},
     "nuid": "5d989f07-b00b-48a8-86d2-b3b98f3701bb",
     "showTitle": true,
     "tableResultSettingsMap": {},
     "title": "Functions for Merge Statement"
    }
   },
   "outputs": [],
   "source": [
    "create or replace temporary function get_join_clause(primary_key string)\n",
    "  returns string\n",
    "  deterministic\n",
    "  comment 'Converts a comma-separated list of primary key columns into a join clause'\n",
    "  language python\n",
    "  as $$\n",
    "    pk_list = [col.strip() for col in primary_key.split(',')]\n",
    "    join_clause = ' and '.join([f't.{col} = s.{col}' for col in pk_list])\n",
    "    return join_clause\n",
    "  $$;"
   ]
  },
  {
   "cell_type": "code",
   "execution_count": 0,
   "metadata": {
    "application/vnd.databricks.v1+cell": {
     "cellMetadata": {
      "byteLimit": 2048000,
      "rowLimit": 10000
     },
     "inputWidgets": {},
     "nuid": "c78e8ada-b08c-4235-a1fb-53bffec1d8cc",
     "showTitle": true,
     "tableResultSettingsMap": {},
     "title": "Merge into Sink Table"
    }
   },
   "outputs": [],
   "source": [
    "begin\n",
    "  declare qry_str string;\n",
    "  declare join_clause string;\n",
    "  \n",
    "  -- Get join clause\n",
    "  set join_clause = (select get_join_clause(:primary_key));\n",
    "  \n",
    "  -- Build merge statement\n",
    "  set qry_str = \n",
    "    \"merge into \" || :sink_catalog || '.' || :sink_schema || '.' || :sink_table || \" as t \" ||\n",
    "    \"using vw_src as s \" ||\n",
    "    \"on \" || join_clause || \" \" ||\n",
    "    \"when matched then update set * \" ||\n",
    "    \"when not matched then insert *\";\n",
    "    \n",
    "  -- Execute merge statement\n",
    "  execute immediate qry_str;\n",
    "  select qry_str;\n",
    "end"
   ]
  }
 ],
 "metadata": {
  "application/vnd.databricks.v1+notebook": {
   "computePreferences": null,
   "dashboards": [],
   "environmentMetadata": {
    "base_environment": "",
    "environment_version": "2"
   },
   "inputWidgetPreferences": null,
   "language": "sql",
   "notebookMetadata": {
    "pythonIndentUnit": 2
   },
   "notebookName": "copy_data_incremental",
   "widgets": {
    "primary_key": {
     "currentValue": "",
     "nuid": "de61d726-8c6d-4f0e-88a4-c8b5e4dd1b68",
     "typedWidgetInfo": {
      "autoCreated": true,
      "defaultValue": "",
      "label": null,
      "name": "primary_key",
      "options": {
       "widgetDisplayType": "Text",
       "validationRegex": null
      },
      "parameterDataType": "String"
     },
     "widgetInfo": {
      "widgetType": "text",
      "defaultValue": "",
      "label": null,
      "name": "primary_key",
      "options": {
       "widgetType": "text",
       "autoCreated": true,
       "validationRegex": null
      }
     }
    },
    "select_list": {
     "currentValue": "",
     "nuid": "83376c49-0d12-48ee-9779-51fad9ba84ca",
     "typedWidgetInfo": {
      "autoCreated": true,
      "defaultValue": "",
      "label": null,
      "name": "select_list",
      "options": {
       "widgetDisplayType": "Text",
       "validationRegex": null
      },
      "parameterDataType": "String"
     },
     "widgetInfo": {
      "widgetType": "text",
      "defaultValue": "",
      "label": null,
      "name": "select_list",
      "options": {
       "widgetType": "text",
       "autoCreated": true,
       "validationRegex": null
      }
     }
    },
    "sink_catalog": {
     "currentValue": "",
     "nuid": "96fb4b36-9c9b-4a6d-8e47-eb1d272e2493",
     "typedWidgetInfo": {
      "autoCreated": true,
      "defaultValue": "",
      "label": null,
      "name": "sink_catalog",
      "options": {
       "widgetDisplayType": "Text",
       "validationRegex": null
      },
      "parameterDataType": "String"
     },
     "widgetInfo": {
      "widgetType": "text",
      "defaultValue": "",
      "label": null,
      "name": "sink_catalog",
      "options": {
       "widgetType": "text",
       "autoCreated": true,
       "validationRegex": null
      }
     }
    },
    "sink_schema": {
     "currentValue": "",
     "nuid": "c0d232bf-decd-41a0-ac22-704c836faab5",
     "typedWidgetInfo": {
      "autoCreated": true,
      "defaultValue": "",
      "label": null,
      "name": "sink_schema",
      "options": {
       "widgetDisplayType": "Text",
       "validationRegex": null
      },
      "parameterDataType": "String"
     },
     "widgetInfo": {
      "widgetType": "text",
      "defaultValue": "",
      "label": null,
      "name": "sink_schema",
      "options": {
       "widgetType": "text",
       "autoCreated": true,
       "validationRegex": null
      }
     }
    },
    "sink_table": {
     "currentValue": "",
     "nuid": "1a4226d7-ba58-4d0f-9f00-995ab025aacd",
     "typedWidgetInfo": {
      "autoCreated": true,
      "defaultValue": "",
      "label": null,
      "name": "sink_table",
      "options": {
       "widgetDisplayType": "Text",
       "validationRegex": null
      },
      "parameterDataType": "String"
     },
     "widgetInfo": {
      "widgetType": "text",
      "defaultValue": "",
      "label": null,
      "name": "sink_table",
      "options": {
       "widgetType": "text",
       "autoCreated": true,
       "validationRegex": null
      }
     }
    },
    "src_catalog": {
     "currentValue": "",
     "nuid": "5959704a-5040-43ea-b7e0-ffabcdbc9055",
     "typedWidgetInfo": {
      "autoCreated": true,
      "defaultValue": "",
      "label": null,
      "name": "src_catalog",
      "options": {
       "widgetDisplayType": "Text",
       "validationRegex": null
      },
      "parameterDataType": "String"
     },
     "widgetInfo": {
      "widgetType": "text",
      "defaultValue": "",
      "label": null,
      "name": "src_catalog",
      "options": {
       "widgetType": "text",
       "autoCreated": true,
       "validationRegex": null
      }
     }
    },
    "src_schema": {
     "currentValue": "",
     "nuid": "00699aaf-3825-41be-bf51-44f7c3800dc7",
     "typedWidgetInfo": {
      "autoCreated": true,
      "defaultValue": "",
      "label": null,
      "name": "src_schema",
      "options": {
       "widgetDisplayType": "Text",
       "validationRegex": null
      },
      "parameterDataType": "String"
     },
     "widgetInfo": {
      "widgetType": "text",
      "defaultValue": "",
      "label": null,
      "name": "src_schema",
      "options": {
       "widgetType": "text",
       "autoCreated": true,
       "validationRegex": null
      }
     }
    },
    "src_table": {
     "currentValue": "",
     "nuid": "79c64534-ec51-42fe-9150-68de4bf2d9fa",
     "typedWidgetInfo": {
      "autoCreated": true,
      "defaultValue": "",
      "label": null,
      "name": "src_table",
      "options": {
       "widgetDisplayType": "Text",
       "validationRegex": null
      },
      "parameterDataType": "String"
     },
     "widgetInfo": {
      "widgetType": "text",
      "defaultValue": "",
      "label": null,
      "name": "src_table",
      "options": {
       "widgetType": "text",
       "autoCreated": true,
       "validationRegex": null
      }
     }
    },
    "watermark_col_end_value": {
     "currentValue": "",
     "nuid": "75f0f8c6-610e-422b-b9de-355c4e2ebc36",
     "typedWidgetInfo": {
      "autoCreated": true,
      "defaultValue": "",
      "label": null,
      "name": "watermark_col_end_value",
      "options": {
       "widgetDisplayType": "Text",
       "validationRegex": null
      },
      "parameterDataType": "String"
     },
     "widgetInfo": {
      "widgetType": "text",
      "defaultValue": "",
      "label": null,
      "name": "watermark_col_end_value",
      "options": {
       "widgetType": "text",
       "autoCreated": true,
       "validationRegex": null
      }
     }
    },
    "watermark_col_name": {
     "currentValue": "",
     "nuid": "3893f5a0-20a0-4397-912f-cd523b84dfc6",
     "typedWidgetInfo": {
      "autoCreated": true,
      "defaultValue": "",
      "label": null,
      "name": "watermark_col_name",
      "options": {
       "widgetDisplayType": "Text",
       "validationRegex": null
      },
      "parameterDataType": "String"
     },
     "widgetInfo": {
      "widgetType": "text",
      "defaultValue": "",
      "label": null,
      "name": "watermark_col_name",
      "options": {
       "widgetType": "text",
       "autoCreated": true,
       "validationRegex": null
      }
     }
    },
    "watermark_col_start_value": {
     "currentValue": "",
     "nuid": "c2de85c0-07e5-4653-9402-d6b450959327",
     "typedWidgetInfo": {
      "autoCreated": true,
      "defaultValue": "",
      "label": null,
      "name": "watermark_col_start_value",
      "options": {
       "widgetDisplayType": "Text",
       "validationRegex": null
      },
      "parameterDataType": "String"
     },
     "widgetInfo": {
      "widgetType": "text",
      "defaultValue": "",
      "label": null,
      "name": "watermark_col_start_value",
      "options": {
       "widgetType": "text",
       "autoCreated": true,
       "validationRegex": null
      }
     }
    },
    "watermark_col_type": {
     "currentValue": "",
     "nuid": "300caf33-ce79-45d0-abd7-7ad2b5c47834",
     "typedWidgetInfo": {
      "autoCreated": true,
      "defaultValue": "",
      "label": null,
      "name": "watermark_col_type",
      "options": {
       "widgetDisplayType": "Text",
       "validationRegex": null
      },
      "parameterDataType": "String"
     },
     "widgetInfo": {
      "widgetType": "text",
      "defaultValue": "",
      "label": null,
      "name": "watermark_col_type",
      "options": {
       "widgetType": "text",
       "autoCreated": true,
       "validationRegex": null
      }
     }
    }
   }
  },
  "language_info": {
   "name": "sql"
  }
 },
 "nbformat": 4,
 "nbformat_minor": 0
}
